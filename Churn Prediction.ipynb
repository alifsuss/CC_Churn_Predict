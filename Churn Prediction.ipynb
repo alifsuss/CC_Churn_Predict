{
 "cells": [
  {
   "cell_type": "markdown",
   "metadata": {},
   "source": [
    "# This project is to predict credit card churning using several Machine Learning Methods"
   ]
  },
  {
   "cell_type": "code",
   "execution_count": 2,
   "metadata": {},
   "outputs": [],
   "source": [
    "# !pip install plotly\n",
    "# !pip install xgboost\n",
    "# !pip install lightgbm"
   ]
  },
  {
   "cell_type": "markdown",
   "metadata": {},
   "source": [
    "## Import Libraries/Package "
   ]
  },
  {
   "cell_type": "code",
   "execution_count": 3,
   "metadata": {},
   "outputs": [],
   "source": [
    "import pandas as pd\n",
    "import numpy as np\n",
    "import plotly.express as px\n",
    "import copy\n",
    "import seaborn as sns\n",
    "import matplotlib.pyplot as plt\n",
    "import plotly.graph_objects as go\n",
    "from sklearn.model_selection import train_test_split\n",
    "from xgboost import XGBClassifier\n",
    "from sklearn.ensemble import RandomForestClassifier\n",
    "from lightgbm import LGBMClassifier\n",
    "from sklearn.metrics import accuracy_score\n",
    "from sklearn import metrics, svm\n",
    "import plotly\n",
    "import os"
   ]
  },
  {
   "cell_type": "markdown",
   "metadata": {},
   "source": [
    "## Load The Data "
   ]
  },
  {
   "cell_type": "markdown",
   "metadata": {},
   "source": [
    "####  The data was obtained from Kaggle: https://www.kaggle.com/sakshigoyal7/credit-card-customers\n"
   ]
  },
  {
   "cell_type": "markdown",
   "metadata": {},
   "source": [
    "#### Column Name:\n",
    "<ol> \n",
    "<li> CLIENTNUM = Client number. Unique identifier for the customer holding the account\n",
    "    \n",
    "<li> Attrition_Flag = Internal event (customer activity) variable - if the account is closed then 1 else 0 (THIS IS THE TARGET PARAMETER)\n",
    "    \n",
    "<li> Customer_Age\n",
    "<li> Gender = Demographic variable - M=Male, F=Female\n",
    "    \n",
    "<li> Dependent_count = Demographic variable - Number of dependents\n",
    "    \n",
    "<li> Education_Level\n",
    "    \n",
    "<li> Marital_Status\n",
    "<li> Income_Category = Demographic variable - Annual Income Category of the account holder (< $40K, $40K - 60K, $60K-$80K, $80K-$120K, > $120K, Unknown)\n",
    "<li> Card_Category = Product Variable - Type of Card (Blue, Silver, Gold, Platinum)\n",
    "<li> Months_on_book = Period of relationship with bank\n",
    "<li> Total_Relationship_Count = Total no. of products held by the customer\n",
    "<li> Months_Inactive_12_mon = No. of months inactive in the last 12 months\n",
    "\n",
    "<li> Contacts_Count_12_mon = No. of Contacts in the last 12 months\n",
    "<li> Credit_Limit\n",
    "<li> Total_Revolving_Bal = Total Revolving Balance on the Credit Card\n",
    "<li> Avg_Open_To_Buy = Open to Buy Credit Line (Average of last 12 months)\n",
    "<li> Total_Amt_Chng_Q4_Q1 = Change in Transaction Amount (Q4 over Q1)\n",
    "<li> Total_Trans_Amt = Total Transaction Amount (Last 12 months)\n",
    "<li> Total_Trans_Ct = Total Transaction Count (Last 12 months)\n",
    "<li> Total_Ct_Chng_Q4_Q1 = Change in Transaction Count (Q4 over Q1)\n",
    "<li> Avg_Utilization_Ratio = Average Card Utilization Ratio\n",
    "\n",
    "</ol>"
   ]
  },
  {
   "cell_type": "code",
   "execution_count": 4,
   "metadata": {},
   "outputs": [
    {
     "data": {
      "text/html": [
       "<div>\n",
       "<style scoped>\n",
       "    .dataframe tbody tr th:only-of-type {\n",
       "        vertical-align: middle;\n",
       "    }\n",
       "\n",
       "    .dataframe tbody tr th {\n",
       "        vertical-align: top;\n",
       "    }\n",
       "\n",
       "    .dataframe thead th {\n",
       "        text-align: right;\n",
       "    }\n",
       "</style>\n",
       "<table border=\"1\" class=\"dataframe\">\n",
       "  <thead>\n",
       "    <tr style=\"text-align: right;\">\n",
       "      <th></th>\n",
       "      <th>CLIENTNUM</th>\n",
       "      <th>Attrition_Flag</th>\n",
       "      <th>Customer_Age</th>\n",
       "      <th>Gender</th>\n",
       "      <th>Dependent_count</th>\n",
       "      <th>Education_Level</th>\n",
       "      <th>Marital_Status</th>\n",
       "      <th>Income_Category</th>\n",
       "      <th>Card_Category</th>\n",
       "      <th>Months_on_book</th>\n",
       "      <th>...</th>\n",
       "      <th>Credit_Limit</th>\n",
       "      <th>Total_Revolving_Bal</th>\n",
       "      <th>Avg_Open_To_Buy</th>\n",
       "      <th>Total_Amt_Chng_Q4_Q1</th>\n",
       "      <th>Total_Trans_Amt</th>\n",
       "      <th>Total_Trans_Ct</th>\n",
       "      <th>Total_Ct_Chng_Q4_Q1</th>\n",
       "      <th>Avg_Utilization_Ratio</th>\n",
       "      <th>Naive_Bayes_Classifier_Attrition_Flag_Card_Category_Contacts_Count_12_mon_Dependent_count_Education_Level_Months_Inactive_12_mon_1</th>\n",
       "      <th>Naive_Bayes_Classifier_Attrition_Flag_Card_Category_Contacts_Count_12_mon_Dependent_count_Education_Level_Months_Inactive_12_mon_2</th>\n",
       "    </tr>\n",
       "  </thead>\n",
       "  <tbody>\n",
       "    <tr>\n",
       "      <th>0</th>\n",
       "      <td>768805383</td>\n",
       "      <td>Existing Customer</td>\n",
       "      <td>45</td>\n",
       "      <td>M</td>\n",
       "      <td>3</td>\n",
       "      <td>High School</td>\n",
       "      <td>Married</td>\n",
       "      <td>$60K - $80K</td>\n",
       "      <td>Blue</td>\n",
       "      <td>39</td>\n",
       "      <td>...</td>\n",
       "      <td>12691.0</td>\n",
       "      <td>777</td>\n",
       "      <td>11914.0</td>\n",
       "      <td>1.335</td>\n",
       "      <td>1144</td>\n",
       "      <td>42</td>\n",
       "      <td>1.625</td>\n",
       "      <td>0.061</td>\n",
       "      <td>0.000093</td>\n",
       "      <td>0.99991</td>\n",
       "    </tr>\n",
       "    <tr>\n",
       "      <th>1</th>\n",
       "      <td>818770008</td>\n",
       "      <td>Existing Customer</td>\n",
       "      <td>49</td>\n",
       "      <td>F</td>\n",
       "      <td>5</td>\n",
       "      <td>Graduate</td>\n",
       "      <td>Single</td>\n",
       "      <td>Less than $40K</td>\n",
       "      <td>Blue</td>\n",
       "      <td>44</td>\n",
       "      <td>...</td>\n",
       "      <td>8256.0</td>\n",
       "      <td>864</td>\n",
       "      <td>7392.0</td>\n",
       "      <td>1.541</td>\n",
       "      <td>1291</td>\n",
       "      <td>33</td>\n",
       "      <td>3.714</td>\n",
       "      <td>0.105</td>\n",
       "      <td>0.000057</td>\n",
       "      <td>0.99994</td>\n",
       "    </tr>\n",
       "    <tr>\n",
       "      <th>2</th>\n",
       "      <td>713982108</td>\n",
       "      <td>Existing Customer</td>\n",
       "      <td>51</td>\n",
       "      <td>M</td>\n",
       "      <td>3</td>\n",
       "      <td>Graduate</td>\n",
       "      <td>Married</td>\n",
       "      <td>$80K - $120K</td>\n",
       "      <td>Blue</td>\n",
       "      <td>36</td>\n",
       "      <td>...</td>\n",
       "      <td>3418.0</td>\n",
       "      <td>0</td>\n",
       "      <td>3418.0</td>\n",
       "      <td>2.594</td>\n",
       "      <td>1887</td>\n",
       "      <td>20</td>\n",
       "      <td>2.333</td>\n",
       "      <td>0.000</td>\n",
       "      <td>0.000021</td>\n",
       "      <td>0.99998</td>\n",
       "    </tr>\n",
       "  </tbody>\n",
       "</table>\n",
       "<p>3 rows × 23 columns</p>\n",
       "</div>"
      ],
      "text/plain": [
       "   CLIENTNUM     Attrition_Flag  Customer_Age Gender  Dependent_count  \\\n",
       "0  768805383  Existing Customer            45      M                3   \n",
       "1  818770008  Existing Customer            49      F                5   \n",
       "2  713982108  Existing Customer            51      M                3   \n",
       "\n",
       "  Education_Level Marital_Status Income_Category Card_Category  \\\n",
       "0     High School        Married     $60K - $80K          Blue   \n",
       "1        Graduate         Single  Less than $40K          Blue   \n",
       "2        Graduate        Married    $80K - $120K          Blue   \n",
       "\n",
       "   Months_on_book  ...  Credit_Limit  Total_Revolving_Bal  Avg_Open_To_Buy  \\\n",
       "0              39  ...       12691.0                  777          11914.0   \n",
       "1              44  ...        8256.0                  864           7392.0   \n",
       "2              36  ...        3418.0                    0           3418.0   \n",
       "\n",
       "   Total_Amt_Chng_Q4_Q1  Total_Trans_Amt  Total_Trans_Ct  Total_Ct_Chng_Q4_Q1  \\\n",
       "0                 1.335             1144              42                1.625   \n",
       "1                 1.541             1291              33                3.714   \n",
       "2                 2.594             1887              20                2.333   \n",
       "\n",
       "   Avg_Utilization_Ratio  \\\n",
       "0                  0.061   \n",
       "1                  0.105   \n",
       "2                  0.000   \n",
       "\n",
       "   Naive_Bayes_Classifier_Attrition_Flag_Card_Category_Contacts_Count_12_mon_Dependent_count_Education_Level_Months_Inactive_12_mon_1  \\\n",
       "0                                           0.000093                                                                                    \n",
       "1                                           0.000057                                                                                    \n",
       "2                                           0.000021                                                                                    \n",
       "\n",
       "   Naive_Bayes_Classifier_Attrition_Flag_Card_Category_Contacts_Count_12_mon_Dependent_count_Education_Level_Months_Inactive_12_mon_2  \n",
       "0                                            0.99991                                                                                   \n",
       "1                                            0.99994                                                                                   \n",
       "2                                            0.99998                                                                                   \n",
       "\n",
       "[3 rows x 23 columns]"
      ]
     },
     "execution_count": 4,
     "metadata": {},
     "output_type": "execute_result"
    }
   ],
   "source": [
    "df = pd.read_csv('ChurnData.csv')\n",
    "df.to_csv(index=False)\n",
    "df.head(3)"
   ]
  },
  {
   "cell_type": "code",
   "execution_count": 5,
   "metadata": {},
   "outputs": [],
   "source": [
    "df.drop(columns=df.columns[-2:], inplace=True)\n",
    "df.drop('CLIENTNUM',axis=1,inplace=True)"
   ]
  },
  {
   "cell_type": "code",
   "execution_count": 6,
   "metadata": {},
   "outputs": [
    {
     "data": {
      "text/plain": [
       "20"
      ]
     },
     "execution_count": 6,
     "metadata": {},
     "output_type": "execute_result"
    }
   ],
   "source": [
    "len(df.columns)"
   ]
  },
  {
   "cell_type": "markdown",
   "metadata": {},
   "source": [
    "# Important function for plotting and evaluation"
   ]
  },
  {
   "cell_type": "markdown",
   "metadata": {},
   "source": [
    "## Function to plot confusion matrix"
   ]
  },
  {
   "cell_type": "code",
   "execution_count": 7,
   "metadata": {},
   "outputs": [],
   "source": [
    "def conf_matrix(classifier, Title):\n",
    "    cf = metrics.confusion_matrix(y_test_scaled, classifier.predict(X_test_scaled), labels=[1,0])\n",
    "    x_axis_labels=['Attrited','Existing']\n",
    "    y_axis_labels=['Attrited','Existing']\n",
    "\n",
    "    ax = plt.axes()\n",
    "    sns.heatmap(cf, ax = ax,annot=True, xticklabels=x_axis_labels, yticklabels=y_axis_labels)\n",
    "    ax.set_title(Title, fontsize = 15)\n",
    "    ax.set_xlabel('Predicted', fontsize = 15)\n",
    "    ax.set_ylabel('Actual', fontsize = 15)\n",
    "    plt.show()\n"
   ]
  },
  {
   "cell_type": "code",
   "execution_count": 8,
   "metadata": {},
   "outputs": [],
   "source": [
    "def class_report(classifier):\n",
    "    print(metrics.classification_report(y_test_scaled,classifier.predict(X_test_scaled), labels=[1,0]))\n",
    "    print('Accuracy_Score:',accuracy_score(y_test_scaled,classifier.predict(X_test_scaled))*100,'%')\n",
    "    print('Recall:',metrics.recall_score(y_test_scaled,classifier.predict(X_test_scaled))*100,'%')"
   ]
  },
  {
   "cell_type": "code",
   "execution_count": 9,
   "metadata": {},
   "outputs": [],
   "source": [
    "def class_report_val(classifier):\n",
    "    print(metrics.classification_report(y_val_scaled,classifier.predict(X_val_scaled), labels=[1,0]))\n",
    "    print('Accuracy_Score:',accuracy_score(y_val_scaled,classifier.predict(X_val_scaled))*100,'%')\n",
    "    print('Recall:',metrics.recall_score(y_val_scaled,classifier.predict(X_val_scaled))*100,'%')"
   ]
  },
  {
   "cell_type": "markdown",
   "metadata": {},
   "source": []
  },
  {
   "cell_type": "markdown",
   "metadata": {},
   "source": [
    "# Import data from the ETL"
   ]
  },
  {
   "cell_type": "code",
   "execution_count": 10,
   "metadata": {},
   "outputs": [],
   "source": [
    "# X_train, X_test, y_train, y_test = train_test_split(X, y, test_size=0.2, random_state=20, shuffle=True)"
   ]
  },
  {
   "cell_type": "code",
   "execution_count": 11,
   "metadata": {},
   "outputs": [],
   "source": [
    "from numpy import asarray\n",
    "from numpy import save\n",
    "from numpy import load"
   ]
  },
  {
   "cell_type": "code",
   "execution_count": 12,
   "metadata": {},
   "outputs": [],
   "source": [
    "# Non-scaked data\n",
    "X_train = load('X_train.npy')\n",
    "X_test = load('X_test.npy')\n",
    "y_train = load('y_train.npy')\n",
    "y_test = load('y_test.npy')\n",
    "X_val = load('X_val.npy')\n",
    "y_val = load('y_val.npy')\n",
    "\n",
    "\n",
    "#Scaled for the Neural Network\n",
    "X_train_scaled = load('X_train_scaled.npy')\n",
    "X_test_scaled = load('X_test_scaled.npy')\n",
    "y_train_scaled = load('y_train_scaled.npy')\n",
    "y_test_scaled = load('y_test_scaled.npy')\n",
    "X_val_scaled = load('X_val_scaled.npy')\n",
    "y_val_scaled = load('y_val_scaled.npy')"
   ]
  },
  {
   "cell_type": "markdown",
   "metadata": {},
   "source": [
    "# Trying Machine Learning Classifier "
   ]
  },
  {
   "cell_type": "markdown",
   "metadata": {},
   "source": [
    "## 1. Random Forest Classifier "
   ]
  },
  {
   "cell_type": "code",
   "execution_count": 13,
   "metadata": {},
   "outputs": [],
   "source": [
    "from sklearn.model_selection import cross_val_score"
   ]
  },
  {
   "cell_type": "code",
   "execution_count": 14,
   "metadata": {},
   "outputs": [],
   "source": [
    "rf=RandomForestClassifier()"
   ]
  },
  {
   "cell_type": "code",
   "execution_count": 15,
   "metadata": {},
   "outputs": [
    {
     "data": {
      "text/plain": [
       "RandomForestClassifier()"
      ]
     },
     "execution_count": 15,
     "metadata": {},
     "output_type": "execute_result"
    }
   ],
   "source": [
    "rf.fit(X_train_scaled, y_train_scaled)"
   ]
  },
  {
   "cell_type": "markdown",
   "metadata": {},
   "source": [
    "### Validation"
   ]
  },
  {
   "cell_type": "code",
   "execution_count": 16,
   "metadata": {},
   "outputs": [
    {
     "name": "stdout",
     "output_type": "stream",
     "text": [
      "Coss Validation scores:\n",
      "1 .  0.91005291005291\n",
      "2 .  0.9402173913043478\n",
      "3 .  0.9597701149425287\n",
      "4 .  0.8972972972972973\n",
      "5 .  0.9314285714285714\n",
      "-------------------------------------------------------\n",
      "\n",
      "average 0.927753257005131 \n",
      "\n"
     ]
    },
    {
     "data": {
      "image/png": "[encoded data removed]",
      "text/plain": [
       "<Figure size 432x288 with 2 Axes>"
      ]
     },
     "metadata": {
      "needs_background": "light"
     },
     "output_type": "display_data"
    },
    {
     "name": "stdout",
     "output_type": "stream",
     "text": [
      "-------------------------------------------------------\n",
      "class_report\n",
      "              precision    recall  f1-score   support\n",
      "\n",
      "           1       0.91      0.81      0.85       301\n",
      "           0       0.97      0.99      0.98      1725\n",
      "\n",
      "    accuracy                           0.96      2026\n",
      "   macro avg       0.94      0.90      0.92      2026\n",
      "weighted avg       0.96      0.96      0.96      2026\n",
      "\n",
      "Accuracy_Score: 95.90325765054294 %\n",
      "Recall: 80.73089700996677 %\n",
      "-------------------------------------------------------\n",
      "\n",
      "class_report_val\n",
      "              precision    recall  f1-score   support\n",
      "\n",
      "           1       0.95      0.82      0.88       279\n",
      "           0       0.96      0.99      0.98      1342\n",
      "\n",
      "    accuracy                           0.96      1621\n",
      "   macro avg       0.96      0.91      0.93      1621\n",
      "weighted avg       0.96      0.96      0.96      1621\n",
      "\n",
      "Accuracy_Score: 96.11351017890192 %\n",
      "Recall: 82.07885304659499 %\n"
     ]
    }
   ],
   "source": [
    "scoresrf = cross_val_score(rf, X_train_scaled, y_train_scaled, cv = 5, scoring='precision')\n",
    "\n",
    "print(\"Coss Validation scores:\")\n",
    "for i in range(len(scoresrf)):\n",
    "    print(i+1, \". \", scoresrf[i])\n",
    "print(\"-------------------------------------------------------\")\n",
    "print(\"\\naverage\", np.mean(scoresrf),\"\\n\")\n",
    "\n",
    "conf_matrix(rf, 'Random Forrest')\n",
    "\n",
    "print(\"-------------------------------------------------------\")\n",
    "print(\"class_report\")\n",
    "class_report(rf)\n",
    "print(\"-------------------------------------------------------\")\n",
    "print(\"\\nclass_report_val\")\n",
    "class_report_val(rf)"
   ]
  },
  {
   "cell_type": "markdown",
   "metadata": {},
   "source": [
    "## 2. Logistic Regression "
   ]
  },
  {
   "cell_type": "code",
   "execution_count": 17,
   "metadata": {},
   "outputs": [],
   "source": [
    "from sklearn.linear_model import LogisticRegression\n",
    "from sklearn.preprocessing import StandardScaler, MinMaxScaler\n",
    "from sklearn.pipeline import Pipeline, make_pipeline"
   ]
  },
  {
   "cell_type": "markdown",
   "metadata": {},
   "source": [
    "##### StandardScaler is not used because not all data are normally distributed,"
   ]
  },
  {
   "cell_type": "code",
   "execution_count": 18,
   "metadata": {},
   "outputs": [],
   "source": [
    "pipe = make_pipeline(MinMaxScaler(),LogisticRegression())"
   ]
  },
  {
   "cell_type": "code",
   "execution_count": 19,
   "metadata": {},
   "outputs": [
    {
     "data": {
      "text/plain": [
       "Pipeline(steps=[('minmaxscaler', MinMaxScaler()),\n",
       "                ('logisticregression', LogisticRegression())])"
      ]
     },
     "execution_count": 19,
     "metadata": {},
     "output_type": "execute_result"
    }
   ],
   "source": [
    "lr = pipe.fit(X_train_scaled, y_train_scaled)\n",
    "lr"
   ]
  },
  {
   "cell_type": "markdown",
   "metadata": {},
   "source": [
    "### Validation"
   ]
  },
  {
   "cell_type": "code",
   "execution_count": 20,
   "metadata": {},
   "outputs": [
    {
     "name": "stdout",
     "output_type": "stream",
     "text": [
      "Coss Validation scores:\n",
      "1 .  0.8102189781021898\n",
      "2 .  0.8283582089552238\n",
      "3 .  0.768\n",
      "4 .  0.7534246575342466\n",
      "5 .  0.7681159420289855\n",
      "-------------------------------------------------------\n",
      "\n",
      "average 0.785623557324129 \n",
      "\n"
     ]
    },
    {
     "data": {
      "image/png": "[encoded data removed]",
      "text/plain": [
       "<Figure size 432x288 with 2 Axes>"
      ]
     },
     "metadata": {
      "needs_background": "light"
     },
     "output_type": "display_data"
    },
    {
     "name": "stdout",
     "output_type": "stream",
     "text": [
      "-------------------------------------------------------\n",
      "class_report\n",
      "              precision    recall  f1-score   support\n",
      "\n",
      "           1       0.80      0.54      0.64       301\n",
      "           0       0.92      0.98      0.95      1725\n",
      "\n",
      "    accuracy                           0.91      2026\n",
      "   macro avg       0.86      0.76      0.80      2026\n",
      "weighted avg       0.91      0.91      0.90      2026\n",
      "\n",
      "Accuracy_Score: 91.11549851924975 %\n",
      "Recall: 54.15282392026578 %\n",
      "-------------------------------------------------------\n",
      "\n",
      "class_report_val\n",
      "              precision    recall  f1-score   support\n",
      "\n",
      "           1       0.81      0.52      0.63       279\n",
      "           0       0.91      0.97      0.94      1342\n",
      "\n",
      "    accuracy                           0.90      1621\n",
      "   macro avg       0.86      0.75      0.79      1621\n",
      "weighted avg       0.89      0.90      0.89      1621\n",
      "\n",
      "Accuracy_Score: 89.63602714373843 %\n",
      "Recall: 51.971326164874554 %\n"
     ]
    }
   ],
   "source": [
    "scoreslr = cross_val_score(lr, X_train_scaled, y_train_scaled, cv = 5, scoring='precision')\n",
    "\n",
    "print(\"Coss Validation scores:\")\n",
    "for i in range(len(scoreslr)):\n",
    "    print(i+1, \". \", scoreslr[i])\n",
    "print(\"-------------------------------------------------------\")\n",
    "print(\"\\naverage\", np.mean(scoreslr),\"\\n\")\n",
    "\n",
    "conf_matrix(lr, 'Logistic Regression')\n",
    "\n",
    "print(\"-------------------------------------------------------\")\n",
    "print(\"class_report\")\n",
    "class_report(lr)\n",
    "print(\"-------------------------------------------------------\")\n",
    "print(\"\\nclass_report_val\")\n",
    "class_report_val(lr)"
   ]
  },
  {
   "cell_type": "markdown",
   "metadata": {},
   "source": [
    "## 3. Try XGBoostClassifier"
   ]
  },
  {
   "cell_type": "markdown",
   "metadata": {},
   "source": [
    "### X-Gradient-Boost Classifier "
   ]
  },
  {
   "cell_type": "code",
   "execution_count": 21,
   "metadata": {},
   "outputs": [
    {
     "name": "stdout",
     "output_type": "stream",
     "text": [
      "[09:23:17] WARNING: ../src/learner.cc:1061: Starting in XGBoost 1.3.0, the default evaluation metric used with the objective 'binary:logistic' was changed from 'error' to 'logloss'. Explicitly set eval_metric if you'd like to restore the old behavior.\n"
     ]
    },
    {
     "name": "stderr",
     "output_type": "stream",
     "text": [
      "/opt/conda/lib/python3.7/site-packages/xgboost/sklearn.py:892: UserWarning: The use of label encoder in XGBClassifier is deprecated and will be removed in a future release. To remove this warning, do the following: 1) Pass option use_label_encoder=False when constructing XGBClassifier object; and 2) Encode your labels (y) as integers starting with 0, i.e. 0, 1, 2, ..., [num_class - 1].\n",
      "  warnings.warn(label_encoder_deprecation_msg, UserWarning)\n"
     ]
    },
    {
     "data": {
      "text/plain": [
       "XGBClassifier(base_score=0.5, booster='gbtree', colsample_bylevel=1,\n",
       "              colsample_bynode=1, colsample_bytree=1, gamma=0, gpu_id=-1,\n",
       "              importance_type='gain', interaction_constraints='',\n",
       "              learning_rate=0.300000012, max_delta_step=0, max_depth=6,\n",
       "              min_child_weight=1, missing=nan, monotone_constraints='()',\n",
       "              n_estimators=100, n_jobs=8, num_parallel_tree=1, random_state=0,\n",
       "              reg_alpha=0, reg_lambda=1, scale_pos_weight=1, subsample=1,\n",
       "              tree_method='exact', validate_parameters=1, verbosity=None)"
      ]
     },
     "execution_count": 21,
     "metadata": {},
     "output_type": "execute_result"
    }
   ],
   "source": [
    "xgb = XGBClassifier()\n",
    "xgb.fit(X_train_scaled, y_train_scaled)"
   ]
  },
  {
   "cell_type": "markdown",
   "metadata": {},
   "source": [
    "### Validation"
   ]
  },
  {
   "cell_type": "code",
   "execution_count": 22,
   "metadata": {},
   "outputs": [
    {
     "name": "stderr",
     "output_type": "stream",
     "text": [
      "/opt/conda/lib/python3.7/site-packages/xgboost/sklearn.py:892: UserWarning: The use of label encoder in XGBClassifier is deprecated and will be removed in a future release. To remove this warning, do the following: 1) Pass option use_label_encoder=False when constructing XGBClassifier object; and 2) Encode your labels (y) as integers starting with 0, i.e. 0, 1, 2, ..., [num_class - 1].\n",
      "  warnings.warn(label_encoder_deprecation_msg, UserWarning)\n"
     ]
    },
    {
     "name": "stdout",
     "output_type": "stream",
     "text": [
      "[09:23:18] WARNING: ../src/learner.cc:1061: Starting in XGBoost 1.3.0, the default evaluation metric used with the objective 'binary:logistic' was changed from 'error' to 'logloss'. Explicitly set eval_metric if you'd like to restore the old behavior.\n",
      "[09:23:18] WARNING: ../src/learner.cc:1061: Starting in XGBoost 1.3.0, the default evaluation metric used with the objective 'binary:logistic' was changed from 'error' to 'logloss'. Explicitly set eval_metric if you'd like to restore the old behavior.\n",
      "[09:23:18] WARNING: ../src/learner.cc:1061: Starting in XGBoost 1.3.0, the default evaluation metric used with the objective 'binary:logistic' was changed from 'error' to 'logloss'. Explicitly set eval_metric if you'd like to restore the old behavior.\n",
      "[09:23:19] WARNING: ../src/learner.cc:1061: Starting in XGBoost 1.3.0, the default evaluation metric used with the objective 'binary:logistic' was changed from 'error' to 'logloss'. Explicitly set eval_metric if you'd like to restore the old behavior.\n",
      "[09:23:19] WARNING: ../src/learner.cc:1061: Starting in XGBoost 1.3.0, the default evaluation metric used with the objective 'binary:logistic' was changed from 'error' to 'logloss'. Explicitly set eval_metric if you'd like to restore the old behavior.\n",
      "Coss Validation scores:\n",
      "1 .  0.905940594059406\n",
      "2 .  0.9226804123711341\n",
      "3 .  0.9728260869565217\n",
      "4 .  0.9359605911330049\n",
      "5 .  0.9378238341968912\n",
      "-------------------------------------------------------\n",
      "\n",
      "average 0.9350463037433917 \n",
      "\n"
     ]
    },
    {
     "data": {
      "image/png": "[encoded data removed]",
      "text/plain": [
       "<Figure size 432x288 with 2 Axes>"
      ]
     },
     "metadata": {
      "needs_background": "light"
     },
     "output_type": "display_data"
    },
    {
     "name": "stdout",
     "output_type": "stream",
     "text": [
      "-------------------------------------------------------\n",
      "class_report\n",
      "              precision    recall  f1-score   support\n",
      "\n",
      "           1       0.91      0.89      0.90       301\n",
      "           0       0.98      0.98      0.98      1725\n",
      "\n",
      "    accuracy                           0.97      2026\n",
      "   macro avg       0.94      0.94      0.94      2026\n",
      "weighted avg       0.97      0.97      0.97      2026\n",
      "\n",
      "Accuracy_Score: 96.98914116485686 %\n",
      "Recall: 88.70431893687709 %\n",
      "-------------------------------------------------------\n",
      "\n",
      "class_report_val\n",
      "              precision    recall  f1-score   support\n",
      "\n",
      "           1       0.94      0.91      0.93       279\n",
      "           0       0.98      0.99      0.98      1342\n",
      "\n",
      "    accuracy                           0.97      1621\n",
      "   macro avg       0.96      0.95      0.96      1621\n",
      "weighted avg       0.97      0.97      0.97      1621\n",
      "\n",
      "Accuracy_Score: 97.47069710055521 %\n",
      "Recall: 91.0394265232975 %\n"
     ]
    }
   ],
   "source": [
    "scoresxgb = cross_val_score(xgb, X_train_scaled, y_train_scaled, cv = 5, scoring='precision')\n",
    "\n",
    "print(\"Coss Validation scores:\")\n",
    "for i in range(len(scoresxgb)):\n",
    "    print(i+1, \". \", scoresxgb[i])\n",
    "print(\"-------------------------------------------------------\")\n",
    "print(\"\\naverage\", np.mean(scoresxgb),\"\\n\")\n",
    "\n",
    "conf_matrix(xgb, 'X-Gradient Boosting Classifier')\n",
    "\n",
    "print(\"-------------------------------------------------------\")\n",
    "print(\"class_report\")\n",
    "class_report(xgb)\n",
    "print(\"-------------------------------------------------------\")\n",
    "print(\"\\nclass_report_val\")\n",
    "class_report_val(xgb)"
   ]
  },
  {
   "cell_type": "markdown",
   "metadata": {},
   "source": [
    "## 4. LGBM Classifier"
   ]
  },
  {
   "cell_type": "markdown",
   "metadata": {},
   "source": [
    "### Light Gradient Boosting Machine"
   ]
  },
  {
   "cell_type": "code",
   "execution_count": 23,
   "metadata": {},
   "outputs": [],
   "source": [
    "lgbm=LGBMClassifier()"
   ]
  },
  {
   "cell_type": "code",
   "execution_count": 24,
   "metadata": {},
   "outputs": [
    {
     "data": {
      "text/plain": [
       "LGBMClassifier()"
      ]
     },
     "execution_count": 24,
     "metadata": {},
     "output_type": "execute_result"
    }
   ],
   "source": [
    "lgbm.fit(X_train_scaled, y_train_scaled)"
   ]
  },
  {
   "cell_type": "markdown",
   "metadata": {},
   "source": [
    "### Validation "
   ]
  },
  {
   "cell_type": "code",
   "execution_count": 25,
   "metadata": {},
   "outputs": [
    {
     "name": "stdout",
     "output_type": "stream",
     "text": [
      "Coss Validation scores:\n",
      "1 .  0.9054726368159204\n",
      "2 .  0.9191919191919192\n",
      "3 .  0.9775280898876404\n",
      "4 .  0.9547738693467337\n",
      "5 .  0.925\n",
      "-------------------------------------------------------\n",
      "\n",
      "average 0.9363933030484427 \n",
      "\n"
     ]
    },
    {
     "data": {
      "image/png": "[encoded data removed]",
      "text/plain": [
       "<Figure size 432x288 with 2 Axes>"
      ]
     },
     "metadata": {
      "needs_background": "light"
     },
     "output_type": "display_data"
    },
    {
     "name": "stdout",
     "output_type": "stream",
     "text": [
      "-------------------------------------------------------\n",
      "class_report\n",
      "              precision    recall  f1-score   support\n",
      "\n",
      "           1       0.91      0.89      0.90       301\n",
      "           0       0.98      0.98      0.98      1725\n",
      "\n",
      "    accuracy                           0.97      2026\n",
      "   macro avg       0.94      0.94      0.94      2026\n",
      "weighted avg       0.97      0.97      0.97      2026\n",
      "\n",
      "Accuracy_Score: 97.03849950641658 %\n",
      "Recall: 89.3687707641196 %\n",
      "-------------------------------------------------------\n",
      "\n",
      "class_report_val\n",
      "              precision    recall  f1-score   support\n",
      "\n",
      "           1       0.94      0.92      0.93       279\n",
      "           0       0.98      0.99      0.99      1342\n",
      "\n",
      "    accuracy                           0.98      1621\n",
      "   macro avg       0.96      0.95      0.96      1621\n",
      "weighted avg       0.98      0.98      0.98      1621\n",
      "\n",
      "Accuracy_Score: 97.59407772979642 %\n",
      "Recall: 92.1146953405018 %\n"
     ]
    }
   ],
   "source": [
    "scoreslgbm = cross_val_score(lgbm, X_train_scaled, y_train_scaled, cv = 5, scoring='precision')\n",
    "\n",
    "print(\"Coss Validation scores:\")\n",
    "for i in range(len(scoreslgbm)):\n",
    "    print(i+1, \". \", scoreslgbm[i])\n",
    "print(\"-------------------------------------------------------\")\n",
    "print(\"\\naverage\", np.mean(scoreslgbm),\"\\n\")\n",
    "\n",
    "conf_matrix(lgbm, 'Light Gradient Boosting Machine')\n",
    "\n",
    "print(\"-------------------------------------------------------\")\n",
    "print(\"class_report\")\n",
    "class_report(lgbm)\n",
    "print(\"-------------------------------------------------------\")\n",
    "print(\"\\nclass_report_val\")\n",
    "class_report_val(lgbm)"
   ]
  },
  {
   "cell_type": "markdown",
   "metadata": {},
   "source": [
    "# Trying to use Neural Network"
   ]
  },
  {
   "cell_type": "markdown",
   "metadata": {},
   "source": [
    "## Lets import necessary Libraries and Packages "
   ]
  },
  {
   "cell_type": "code",
   "execution_count": 37,
   "metadata": {},
   "outputs": [],
   "source": [
    "# !pip install keras"
   ]
  },
  {
   "cell_type": "code",
   "execution_count": 38,
   "metadata": {},
   "outputs": [],
   "source": [
    "# !pip install tensorflow==2.2"
   ]
  },
  {
   "cell_type": "code",
   "execution_count": 40,
   "metadata": {},
   "outputs": [],
   "source": [
    "import numpy as np\n",
    "import keras\n",
    "import tensorflow as tf\n",
    "from keras.models import Sequential\n",
    "from keras.layers import Dense, Dropout\n",
    "from keras.utils import to_categorical\n",
    "from tensorflow.keras import regularizers\n",
    "from sklearn.preprocessing import MinMaxScaler"
   ]
  },
  {
   "cell_type": "code",
   "execution_count": 41,
   "metadata": {},
   "outputs": [],
   "source": [
    "# scaler = MinMaxScaler()\n",
    "# X_train_scaled = scaler.fit_transform(X_train)\n",
    "# X_test_scaled = scaler.fit_transform(X_test)"
   ]
  },
  {
   "cell_type": "code",
   "execution_count": 42,
   "metadata": {},
   "outputs": [
    {
     "name": "stdout",
     "output_type": "stream",
     "text": [
      "(6480, 19) and (2026, 19)\n"
     ]
    }
   ],
   "source": [
    "print(X_train_scaled.shape, 'and', X_test_scaled.shape)"
   ]
  },
  {
   "cell_type": "code",
   "execution_count": 43,
   "metadata": {},
   "outputs": [
    {
     "name": "stdout",
     "output_type": "stream",
     "text": [
      "(6480,) and (2026,)\n"
     ]
    }
   ],
   "source": [
    "print(y_train.shape, 'and', y_test.shape)"
   ]
  },
  {
   "cell_type": "markdown",
   "metadata": {},
   "source": [
    "## Model 1  -- Longer"
   ]
  },
  {
   "cell_type": "code",
   "execution_count": 44,
   "metadata": {},
   "outputs": [],
   "source": [
    "model1 = Sequential()\n",
    "model1.add(Dense(64, kernel_regularizer=regularizers.l2(0.001), input_dim=19, activation='relu'))\n",
    "model1.add(Dropout(rate=0.2))\n",
    "model1.add(Dense(256, kernel_regularizer=regularizers.l2(0.001), activation='relu'))\n",
    "model1.add(Dropout(rate=0.2))\n",
    "model1.add(Dense(256, kernel_regularizer=regularizers.l2(0.001), activation='relu'))\n",
    "model1.add(Dropout(rate=0.2))\n",
    "model1.add(Dense(256, kernel_regularizer=regularizers.l2(0.001), activation='relu'))\n",
    "model1.add(Dropout(rate=0.2))\n",
    "model1.add(Dense(128, kernel_regularizer=regularizers.l2(0.001), activation='relu'))\n",
    "model1.add(Dropout(rate=0.2))\n",
    "model1.add(Dense(8, kernel_regularizer=regularizers.l2(0.001), activation='relu'))\n",
    "model1.add(Dropout(rate=0.1))\n",
    "model1.add(Dense(1, activation='sigmoid'))"
   ]
  },
  {
   "cell_type": "code",
   "execution_count": 45,
   "metadata": {},
   "outputs": [
    {
     "name": "stdout",
     "output_type": "stream",
     "text": [
      "Model: \"sequential\"\n",
      "_________________________________________________________________\n",
      "Layer (type)                 Output Shape              Param #   \n",
      "=================================================================\n",
      "dense (Dense)                (None, 64)                1280      \n",
      "_________________________________________________________________\n",
      "dropout (Dropout)            (None, 64)                0         \n",
      "_________________________________________________________________\n",
      "dense_1 (Dense)              (None, 256)               16640     \n",
      "_________________________________________________________________\n",
      "dropout_1 (Dropout)          (None, 256)               0         \n",
      "_________________________________________________________________\n",
      "dense_2 (Dense)              (None, 256)               65792     \n",
      "_________________________________________________________________\n",
      "dropout_2 (Dropout)          (None, 256)               0         \n",
      "_________________________________________________________________\n",
      "dense_3 (Dense)              (None, 256)               65792     \n",
      "_________________________________________________________________\n",
      "dropout_3 (Dropout)          (None, 256)               0         \n",
      "_________________________________________________________________\n",
      "dense_4 (Dense)              (None, 128)               32896     \n",
      "_________________________________________________________________\n",
      "dropout_4 (Dropout)          (None, 128)               0         \n",
      "_________________________________________________________________\n",
      "dense_5 (Dense)              (None, 8)                 1032      \n",
      "_________________________________________________________________\n",
      "dropout_5 (Dropout)          (None, 8)                 0         \n",
      "_________________________________________________________________\n",
      "dense_6 (Dense)              (None, 1)                 9         \n",
      "=================================================================\n",
      "Total params: 183,441\n",
      "Trainable params: 183,441\n",
      "Non-trainable params: 0\n",
      "_________________________________________________________________\n"
     ]
    }
   ],
   "source": [
    "model1.summary()"
   ]
  },
  {
   "cell_type": "code",
   "execution_count": 56,
   "metadata": {},
   "outputs": [],
   "source": [
    "model1.compile(loss = \"binary_crossentropy\", \n",
    "                  optimizer = 'adam', \n",
    "                  metrics=['accuracy'])\n",
    "    \n",
    "\n",
    "history1 = model1.fit(X_train_scaled, y_train_scaled, validation_data=(X_test_scaled, y_test_scaled), epochs=150, batch_size=32, verbose=0)\n",
    "\n",
    "score1 = model1.evaluate(X_test_scaled, y_test_scaled, verbose=0)"
   ]
  },
  {
   "cell_type": "markdown",
   "metadata": {},
   "source": [
    "### Save the history "
   ]
  },
  {
   "cell_type": "code",
   "execution_count": 57,
   "metadata": {},
   "outputs": [],
   "source": [
    "import json\n",
    "# Get the dictionary containing each metric and the loss for each epoch\n",
    "history_1 = history1.history\n",
    "# Save it under the form of a json file\n",
    "json.dump(history_1, open('history1.json', 'w'))"
   ]
  },
  {
   "cell_type": "markdown",
   "metadata": {},
   "source": [
    "### Load the history for later use "
   ]
  },
  {
   "cell_type": "code",
   "execution_count": 59,
   "metadata": {},
   "outputs": [],
   "source": [
    "history_1 = json.load(open('history1.json', 'r'))"
   ]
  },
  {
   "cell_type": "markdown",
   "metadata": {},
   "source": [
    "### Plot the figure "
   ]
  },
  {
   "cell_type": "code",
   "execution_count": 69,
   "metadata": {},
   "outputs": [
    {
     "data": {
      "image/png": "[encoded data removed]",
      "text/plain": [
       "<Figure size 432x288 with 1 Axes>"
      ]
     },
     "metadata": {
      "needs_background": "light"
     },
     "output_type": "display_data"
    }
   ],
   "source": [
    "plt.plot(history_1['accuracy']) \n",
    "plt.plot(history_1['val_accuracy']) \n",
    "plt.title('longer model accuracy', fontsize = 15) \n",
    "plt.ylabel('accuracy', fontsize = 15)\n",
    "plt.xlabel('epoch', fontsize = 15) \n",
    "plt.legend(['train', 'test'], loc='lower right', fontsize = 15) \n",
    "plt.show()"
   ]
  },
  {
   "cell_type": "code",
   "execution_count": 70,
   "metadata": {},
   "outputs": [
    {
     "data": {
      "image/png": "[encoded data removed]",
      "text/plain": [
       "<Figure size 432x288 with 1 Axes>"
      ]
     },
     "metadata": {
      "needs_background": "light"
     },
     "output_type": "display_data"
    }
   ],
   "source": [
    "plt.plot(history_1['loss']) \n",
    "plt.plot(history_1['val_loss']) \n",
    "plt.title('long model loss', fontsize = 15) \n",
    "plt.ylabel('loss', fontsize = 15)\n",
    "plt.xlabel('epoch', fontsize = 15)\n",
    "plt.legend(['train', 'test'], loc='upper right', fontsize = 15)\n",
    "plt.show()"
   ]
  },
  {
   "cell_type": "code",
   "execution_count": 79,
   "metadata": {},
   "outputs": [],
   "source": [
    "# Evaluation:\n",
    "yprednn1=model1.predict(X_test_scaled)\n",
    "yprednn1=yprednn1.round()"
   ]
  },
  {
   "cell_type": "code",
   "execution_count": 47,
   "metadata": {},
   "outputs": [
    {
     "name": "stdout",
     "output_type": "stream",
     "text": [
      "Longer Neural Network:\n",
      "               precision    recall  f1-score   support\n",
      "\n",
      "         0.0       0.99      0.94      0.96      1827\n",
      "         1.0       0.62      0.94      0.75       199\n",
      "\n",
      "    accuracy                           0.94      2026\n",
      "   macro avg       0.81      0.94      0.86      2026\n",
      "weighted avg       0.96      0.94      0.94      2026\n",
      "\n",
      "\n",
      "                 Predicted Existing  Predicted Attrited\n",
      "Actual Existing                1713                 114\n",
      "Actual Attrited                  12                 187\n"
     ]
    }
   ],
   "source": [
    "print('Longer Neural Network:\\n {}\\n'.format(\n",
    "    metrics.classification_report(yprednn1, y_test_scaled)))\n",
    "nn_conf_matrix1=metrics.confusion_matrix(yprednn1,y_test_scaled)\n",
    "conf_mat_nn1 = pd.DataFrame(nn_conf_matrix1, \n",
    "    columns=[\"Predicted Existing\", \"Predicted Attrited\"], \n",
    "    index=[\"Actual Existing\", \"Actual Attrited\"])\n",
    "print(conf_mat_nn1)\n",
    "\n",
    "# conf_matrix(model1, \"Light Gradient Boosting Machine\")"
   ]
  },
  {
   "cell_type": "code",
   "execution_count": 76,
   "metadata": {},
   "outputs": [
    {
     "data": {
      "image/png": "[encoded data removed]",
      "text/plain": [
       "<Figure size 432x288 with 2 Axes>"
      ]
     },
     "metadata": {
      "needs_background": "light"
     },
     "output_type": "display_data"
    }
   ],
   "source": [
    "cf1 = metrics.confusion_matrix(yprednn1, y_test, labels=[1,0])\n",
    "x_axis_labels=['Attrited','Existing']\n",
    "y_axis_labels=['Attrited','Existing']\n",
    "\n",
    "ax = plt.axes()\n",
    "sns.heatmap(cf1, ax = ax,annot=True, xticklabels=x_axis_labels, yticklabels=y_axis_labels)\n",
    "ax.set_title('Longer Neural Network', fontsize = 15)\n",
    "ax.set_xlabel('Predicted', fontsize = 15)\n",
    "ax.set_ylabel('Actual', fontsize = 15)\n",
    "plt.show()"
   ]
  },
  {
   "cell_type": "markdown",
   "metadata": {},
   "source": [
    "### Save and load the model "
   ]
  },
  {
   "cell_type": "code",
   "execution_count": 27,
   "metadata": {},
   "outputs": [
    {
     "name": "stderr",
     "output_type": "stream",
     "text": [
      "Using TensorFlow backend.\n"
     ]
    }
   ],
   "source": [
    "from keras.models import model_from_json"
   ]
  },
  {
   "cell_type": "code",
   "execution_count": 82,
   "metadata": {},
   "outputs": [
    {
     "name": "stdout",
     "output_type": "stream",
     "text": [
      "Saved model1 to disk\n",
      "Loaded model1 from disk\n"
     ]
    }
   ],
   "source": [
    "# serialize model to JSON\n",
    "model1_json = model1.to_json()\n",
    "with open(\"model1.json\", \"w\") as json_file:\n",
    "    json_file.write(model1_json)\n",
    "    \n",
    "# serialize weights to HDF5\n",
    "model1.save_weights(\"model1.h5\")\n",
    "print(\"Saved model1 to disk\")"
   ]
  },
  {
   "cell_type": "code",
   "execution_count": 28,
   "metadata": {},
   "outputs": [
    {
     "name": "stdout",
     "output_type": "stream",
     "text": [
      "Loaded model1 from disk\n"
     ]
    }
   ],
   "source": [
    "# load json and create model\n",
    "json1_file = open('model1.json', 'r')\n",
    "nn_model1_json = json1_file.read()\n",
    "json1_file.close()\n",
    "nn_model1 = model_from_json(nn_model1_json)\n",
    "# load weights into new model\n",
    "nn_model1.load_weights(\"model1.h5\")\n",
    "print(\"Loaded model1 from disk\")"
   ]
  },
  {
   "cell_type": "markdown",
   "metadata": {},
   "source": [
    "## model 2 -- wider"
   ]
  },
  {
   "cell_type": "code",
   "execution_count": 61,
   "metadata": {},
   "outputs": [
    {
     "name": "stdout",
     "output_type": "stream",
     "text": [
      "Model: \"sequential_1\"\n",
      "_________________________________________________________________\n",
      "Layer (type)                 Output Shape              Param #   \n",
      "=================================================================\n",
      "dense_7 (Dense)              (None, 1024)              20480     \n",
      "_________________________________________________________________\n",
      "dropout_6 (Dropout)          (None, 1024)              0         \n",
      "_________________________________________________________________\n",
      "dense_8 (Dense)              (None, 2048)              2099200   \n",
      "_________________________________________________________________\n",
      "dropout_7 (Dropout)          (None, 2048)              0         \n",
      "_________________________________________________________________\n",
      "dense_9 (Dense)              (None, 1)                 2049      \n",
      "=================================================================\n",
      "Total params: 2,121,729\n",
      "Trainable params: 2,121,729\n",
      "Non-trainable params: 0\n",
      "_________________________________________________________________\n"
     ]
    }
   ],
   "source": [
    "model2 = Sequential()\n",
    "model2.add(Dense(1024, kernel_regularizer=regularizers.l2(0.001), input_dim=19, activation='relu'))\n",
    "model2.add(Dropout(rate=0.2))\n",
    "model2.add(Dense(2048, kernel_regularizer=regularizers.l2(0.001), activation='relu'))\n",
    "model2.add(Dropout(rate=0.1))\n",
    "model2.add(Dense(1, activation='sigmoid'))\n",
    "\n",
    "model2.summary()"
   ]
  },
  {
   "cell_type": "code",
   "execution_count": 62,
   "metadata": {},
   "outputs": [],
   "source": [
    "model2.compile(loss = \"binary_crossentropy\", \n",
    "                  optimizer = 'adam', \n",
    "                  metrics=['accuracy'])\n",
    "    \n",
    "\n",
    "history2 = model2.fit(X_train_scaled, y_train_scaled, validation_data=(X_val_scaled, y_val_scaled), epochs=150, batch_size=32, verbose=0)\n",
    "# history\n",
    "score2 = model2.evaluate(X_test_scaled, y_test_scaled, verbose=0)"
   ]
  },
  {
   "cell_type": "markdown",
   "metadata": {},
   "source": [
    "### Save the history model 2"
   ]
  },
  {
   "cell_type": "code",
   "execution_count": 65,
   "metadata": {},
   "outputs": [],
   "source": [
    "import json\n",
    "# Get the dictionary containing each metric and the loss for each epoch\n",
    "history_2 = history2.history\n",
    "# Save it under the form of a json file\n",
    "json.dump(history_2, open('history2.json', 'w'))"
   ]
  },
  {
   "cell_type": "markdown",
   "metadata": {},
   "source": [
    "### Load the history2"
   ]
  },
  {
   "cell_type": "code",
   "execution_count": 66,
   "metadata": {},
   "outputs": [],
   "source": [
    "history_2 = json.load(open('history2.json', 'r'))"
   ]
  },
  {
   "cell_type": "markdown",
   "metadata": {},
   "source": [
    "### Plot the Figure"
   ]
  },
  {
   "cell_type": "code",
   "execution_count": 67,
   "metadata": {},
   "outputs": [
    {
     "data": {
      "image/png": "[encoded data removed]",
      "text/plain": [
       "<Figure size 432x288 with 1 Axes>"
      ]
     },
     "metadata": {
      "needs_background": "light"
     },
     "output_type": "display_data"
    }
   ],
   "source": [
    "plt.plot(history_2['accuracy']) \n",
    "plt.plot(history_2['val_accuracy']) \n",
    "plt.title('wider model accuracy', fontsize = 15)\n",
    "plt.ylabel('accuracy', fontsize = 15)\n",
    "plt.xlabel('epoch', fontsize = 15) \n",
    "plt.legend(['train', 'test'], loc='lower right', fontsize = 15) \n",
    "plt.show()"
   ]
  },
  {
   "cell_type": "code",
   "execution_count": 68,
   "metadata": {},
   "outputs": [
    {
     "data": {
      "image/png": "[encoded data removed]",
      "text/plain": [
       "<Figure size 432x288 with 1 Axes>"
      ]
     },
     "metadata": {
      "needs_background": "light"
     },
     "output_type": "display_data"
    }
   ],
   "source": [
    "plt.plot(history_2['loss']) \n",
    "plt.plot(history_2['val_loss']) \n",
    "plt.title('wider model loss', fontsize = 15) \n",
    "plt.ylabel('loss', fontsize = 15)\n",
    "plt.xlabel('epoch', fontsize = 15)\n",
    "plt.legend(['train', 'test'], loc='upper right', fontsize = 15)\n",
    "plt.show()"
   ]
  },
  {
   "cell_type": "code",
   "execution_count": 78,
   "metadata": {},
   "outputs": [],
   "source": [
    "# Evaluation:\n",
    "yprednn2=model2.predict(X_test_scaled)\n",
    "yprednn2=yprednn2.round()"
   ]
  },
  {
   "cell_type": "code",
   "execution_count": 56,
   "metadata": {},
   "outputs": [
    {
     "name": "stdout",
     "output_type": "stream",
     "text": [
      "Wider Neural Network:\n",
      "               precision    recall  f1-score   support\n",
      "\n",
      "         0.0       0.92      0.98      0.95      1618\n",
      "         1.0       0.91      0.67      0.77       408\n",
      "\n",
      "    accuracy                           0.92      2026\n",
      "   macro avg       0.92      0.83      0.86      2026\n",
      "weighted avg       0.92      0.92      0.92      2026\n",
      "\n",
      "\n",
      "                 Predicted Existing  Predicted Attrited\n",
      "Actual Existing                1591                  27\n",
      "Actual Attrited                 134                 274\n"
     ]
    }
   ],
   "source": [
    "print('Wider Neural Network:\\n {}\\n'.format(\n",
    "    metrics.classification_report(yprednn2, y_test_scaled)))\n",
    "\n",
    "nn_conf_matrix2=metrics.confusion_matrix(yprednn2,y_test_scaled)\n",
    "conf_mat_nn2 = pd.DataFrame(nn_conf_matrix2, \n",
    "    columns=[\"Predicted Existing\", \"Predicted Attrited\"], \n",
    "    index=[\"Actual Existing\", \"Actual Attrited\"])\n",
    "print(conf_mat_nn2)\n",
    "\n",
    "# conf_matrix(model1, \"Light Gradient Boosting Machine\")"
   ]
  },
  {
   "cell_type": "code",
   "execution_count": 78,
   "metadata": {},
   "outputs": [
    {
     "data": {
      "image/png": "[encoded data removed]",
      "text/plain": [
       "<Figure size 432x288 with 2 Axes>"
      ]
     },
     "metadata": {
      "needs_background": "light"
     },
     "output_type": "display_data"
    }
   ],
   "source": [
    "cf2 = metrics.confusion_matrix(yprednn2, y_test_scaled, labels=[1,0])\n",
    "x_axis_labels=['Attrited','Existing']\n",
    "y_axis_labels=['Attrited','Existing']\n",
    "\n",
    "ax = plt.axes()\n",
    "sns.heatmap(cf2, ax = ax,annot=True, xticklabels=x_axis_labels, yticklabels=y_axis_labels)\n",
    "ax.set_title('Wider Neural Network', fontsize = 15)\n",
    "ax.set_xlabel('Predicted', fontsize = 15)\n",
    "ax.set_ylabel('Actual', fontsize = 15)\n",
    "plt.show()"
   ]
  },
  {
   "cell_type": "markdown",
   "metadata": {},
   "source": [
    "### Save the model "
   ]
  },
  {
   "cell_type": "code",
   "execution_count": 71,
   "metadata": {},
   "outputs": [
    {
     "name": "stdout",
     "output_type": "stream",
     "text": [
      "Saved model2 to disk\n"
     ]
    }
   ],
   "source": [
    "# serialize model to JSON\n",
    "model2_json = model2.to_json()\n",
    "with open(\"model2.json\", \"w\") as json_file:\n",
    "    json_file.write(model2_json)\n",
    "    \n",
    "# serialize weights to HDF5\n",
    "model2.save_weights(\"model2.h5\")\n",
    "print(\"Saved model2 to disk\")"
   ]
  },
  {
   "cell_type": "markdown",
   "metadata": {},
   "source": [
    "### Load the model "
   ]
  },
  {
   "cell_type": "code",
   "execution_count": 72,
   "metadata": {},
   "outputs": [
    {
     "name": "stdout",
     "output_type": "stream",
     "text": [
      "Loaded model2from disk\n"
     ]
    }
   ],
   "source": [
    "\n",
    "# load json and create model\n",
    "json2_file = open('model2.json', 'r')\n",
    "nn_model2_json = json2_file.read()\n",
    "json2_file.close()\n",
    "nn_model2 = model_from_json(nn_model2_json)\n",
    "# load weights into new model\n",
    "nn_model2.load_weights(\"model2.h5\")\n",
    "print(\"Loaded model2from disk\")"
   ]
  },
  {
   "cell_type": "markdown",
   "metadata": {},
   "source": [
    "# What feature is the most affecting churn?"
   ]
  },
  {
   "cell_type": "markdown",
   "metadata": {},
   "source": [
    "According to Random Forest classifier"
   ]
  },
  {
   "cell_type": "code",
   "execution_count": 73,
   "metadata": {},
   "outputs": [],
   "source": [
    "from sklearn import ensemble\n",
    "import matplotlib.pyplot as plt\n",
    "%matplotlib inline"
   ]
  },
  {
   "cell_type": "code",
   "execution_count": 74,
   "metadata": {},
   "outputs": [],
   "source": [
    "df_churn = pd.read_csv('df_churn.csv')"
   ]
  },
  {
   "cell_type": "code",
   "execution_count": 75,
   "metadata": {},
   "outputs": [
    {
     "data": {
      "image/png": "[encoded data removed]",
      "text/plain": [
       "<Figure size 720x720 with 1 Axes>"
      ]
     },
     "metadata": {
      "needs_background": "light"
     },
     "output_type": "display_data"
    }
   ],
   "source": [
    "rf =  ensemble.RandomForestClassifier(n_estimators=130,max_features=6, n_jobs=-1)\n",
    "rf.fit(X_train_scaled, y_train_scaled)\n",
    "feature_importance = rf.feature_importances_\n",
    "feat_importances = pd.Series(rf.feature_importances_, index=df_churn.iloc[:,1:].columns)\n",
    "feat_importances = feat_importances.nlargest(19)\n",
    "feat_importances.plot(kind='barh' , figsize=(10,10))\n",
    "\n",
    "plt.show()"
   ]
  },
  {
   "cell_type": "markdown",
   "metadata": {},
   "source": [
    "# Summary: What model is best?"
   ]
  },
  {
   "cell_type": "code",
   "execution_count": 76,
   "metadata": {},
   "outputs": [],
   "source": [
    "from sklearn.metrics import f1_score, precision_score, recall_score, confusion_matrix"
   ]
  },
  {
   "cell_type": "code",
   "execution_count": 80,
   "metadata": {},
   "outputs": [
    {
     "data": {
      "text/html": [
       "<div>\n",
       "<style scoped>\n",
       "    .dataframe tbody tr th:only-of-type {\n",
       "        vertical-align: middle;\n",
       "    }\n",
       "\n",
       "    .dataframe tbody tr th {\n",
       "        vertical-align: top;\n",
       "    }\n",
       "\n",
       "    .dataframe thead th {\n",
       "        text-align: right;\n",
       "    }\n",
       "</style>\n",
       "<table border=\"1\" class=\"dataframe\">\n",
       "  <thead>\n",
       "    <tr style=\"text-align: right;\">\n",
       "      <th></th>\n",
       "      <th>Model</th>\n",
       "      <th>Accuracy</th>\n",
       "      <th>f1 Score</th>\n",
       "      <th>Recall</th>\n",
       "    </tr>\n",
       "  </thead>\n",
       "  <tbody>\n",
       "    <tr>\n",
       "      <th>3</th>\n",
       "      <td>LGBM</td>\n",
       "      <td>97.04</td>\n",
       "      <td>89.97</td>\n",
       "      <td>89.37</td>\n",
       "    </tr>\n",
       "    <tr>\n",
       "      <th>2</th>\n",
       "      <td>XGBoost</td>\n",
       "      <td>96.99</td>\n",
       "      <td>89.75</td>\n",
       "      <td>88.70</td>\n",
       "    </tr>\n",
       "    <tr>\n",
       "      <th>0</th>\n",
       "      <td>Random Forest</td>\n",
       "      <td>96.35</td>\n",
       "      <td>87.29</td>\n",
       "      <td>84.39</td>\n",
       "    </tr>\n",
       "    <tr>\n",
       "      <th>4</th>\n",
       "      <td>Longer Neural Network</td>\n",
       "      <td>95.26</td>\n",
       "      <td>84.16</td>\n",
       "      <td>84.72</td>\n",
       "    </tr>\n",
       "    <tr>\n",
       "      <th>5</th>\n",
       "      <td>Wider Neural Network</td>\n",
       "      <td>94.82</td>\n",
       "      <td>81.41</td>\n",
       "      <td>80.73</td>\n",
       "    </tr>\n",
       "    <tr>\n",
       "      <th>1</th>\n",
       "      <td>Logistic Regression</td>\n",
       "      <td>91.12</td>\n",
       "      <td>64.43</td>\n",
       "      <td>54.15</td>\n",
       "    </tr>\n",
       "  </tbody>\n",
       "</table>\n",
       "</div>"
      ],
      "text/plain": [
       "                   Model  Accuracy  f1 Score  Recall\n",
       "3                   LGBM     97.04     89.97   89.37\n",
       "2                XGBoost     96.99     89.75   88.70\n",
       "0          Random Forest     96.35     87.29   84.39\n",
       "4  Longer Neural Network     95.26     84.16   84.72\n",
       "5   Wider Neural Network     94.82     81.41   80.73\n",
       "1    Logistic Regression     91.12     64.43   54.15"
      ]
     },
     "execution_count": 80,
     "metadata": {},
     "output_type": "execute_result"
    }
   ],
   "source": [
    "model_name = ['Random Forest','Logistic Regression', 'XGBoost', 'LGBM', 'Longer Neural Network', 'Wider Neural Network']\n",
    "accuracy = []\n",
    "f1 = []\n",
    "recall = []\n",
    "\n",
    "model_code = [rf, lr, xgb, lgbm, nn_model1, nn_model2]\n",
    "\n",
    "for i in model_code:\n",
    "    if i == nn_model1:\n",
    "        accuracy.append(round(history1.history['val_accuracy'][149]*100,2))\n",
    "        f1.append(round(metrics.f1_score(y_test_scaled, yprednn1)*100,2))\n",
    "        recall.append(round(metrics.recall_score(y_test_scaled, yprednn1)*100,2))\n",
    "    elif i == nn_model2:\n",
    "        accuracy.append(round(history2.history['val_accuracy'][149]*100,2))\n",
    "        f1.append(round(metrics.f1_score(y_test_scaled, yprednn2)*100,2))\n",
    "        recall.append(round(metrics.recall_score(y_test_scaled, yprednn2)*100,2))\n",
    "    else:\n",
    "        accuracy.append(round(accuracy_score(y_test_scaled, i.predict(X_test_scaled))*100,2))\n",
    "        f1.append(round(metrics.f1_score(y_test_scaled, i.predict(X_test_scaled))*100,2))\n",
    "        recall.append(round(metrics.recall_score(y_test_scaled, i.predict(X_test_scaled))*100,2))\n",
    "    \n",
    "\n",
    "summary = pd.DataFrame({'Model': model_name, 'Accuracy': accuracy, 'f1 Score': f1, 'Recall': recall})\n",
    "\n",
    "summary.sort_values(by='Accuracy', ascending=False)"
   ]
  },
  {
   "cell_type": "code",
   "execution_count": 81,
   "metadata": {},
   "outputs": [
    {
     "name": "stdout",
     "output_type": "stream",
     "text": [
      "The best Model for this churn is: LGBM \n",
      "\tand the worst is: Logistic Regression\n"
     ]
    }
   ],
   "source": [
    "print(\"The best Model for this churn is:\", \n",
    "    summary[summary[\"Accuracy\"] == summary[\"Accuracy\"].max()][\"Model\"].values[0], \"\\n\\tand the worst is:\",\n",
    "    summary[summary[\"Accuracy\"] == summary[\"Accuracy\"].min()][\"Model\"].values[0])"
   ]
  },
  {
   "cell_type": "code",
   "execution_count": 83,
   "metadata": {},
   "outputs": [],
   "source": [
    "summary.to_csv('summary.csv', index=False)"
   ]
  }
 ],
 "metadata": {
  "kernelspec": {
   "display_name": "Python 3",
   "language": "python",
   "name": "python3"
  },
  "language_info": {
   "codemirror_mode": {
    "name": "ipython",
    "version": 3
   },
   "file_extension": ".py",
   "mimetype": "text/x-python",
   "name": "python",
   "nbconvert_exporter": "python",
   "pygments_lexer": "ipython3",
   "version": "3.7.8"
  }
 },
 "nbformat": 4,
 "nbformat_minor": 4
}

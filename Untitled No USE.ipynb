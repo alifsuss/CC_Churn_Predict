{
 "cells": [
  {
   "cell_type": "code",
   "execution_count": 1,
   "metadata": {},
   "outputs": [],
   "source": [
    "from oauth2client.client import OAuth2WebServerFlow\n",
    "from oauth2client.tools import run_flow\n",
    "from oauth2client.file import Storage\n",
    "import json\n",
    "import os\n",
    "import re\n",
    "import httplib2\n",
    "from oauth2client import GOOGLE_REVOKE_URI, GOOGLE_TOKEN_URI, client\n",
    "import requests\n",
    "import pandas as pd"
   ]
  },
  {
   "cell_type": "code",
   "execution_count": 2,
   "metadata": {},
   "outputs": [],
   "source": [
    "def where_json(file_name):return os.path.exists(file_name)"
   ]
  },
  {
   "cell_type": "code",
   "execution_count": 3,
   "metadata": {},
   "outputs": [],
   "source": [
    "def get_refresh_token(client_id,client_secret):\n",
    "    CLIENT_ID = client_id\n",
    "    CLIENT_SECRET = client_secret\n",
    "    SCOPE = 'https://www.googleapis.com/auth/analytics.readonly'\n",
    "    REDIRECT_URI = 'http:localhost:8080'\n",
    "  \n",
    "    flow = OAuth2WebServerFlow(client_id=CLIENT_ID,client_secret=CLIENT_SECRET,scope=SCOPE,redirect_uri=REDIRECT_URI)\n",
    "    if where_json('credential.json')==False:\n",
    "       storage = Storage('credential.json') \n",
    "       credentials = run_flow(flow, storage)\n",
    "       refresh_token=credentials.refresh_token\n",
    "       \n",
    "    elif where_json('credential.json')==True:\n",
    "       with open('credential.json') as json_file:  \n",
    "           data         = json.load(json_file)\n",
    "       refresh_token=data['refresh_token']\n",
    "  \n",
    "    return(refresh_token)"
   ]
  },
  {
   "cell_type": "code",
   "execution_count": 11,
   "metadata": {
    "scrolled": true
   },
   "outputs": [
    {
     "name": "stderr",
     "output_type": "stream",
     "text": [
      "usage: ipykernel_launcher.py [--auth_host_name AUTH_HOST_NAME]\n",
      "                             [--noauth_local_webserver]\n",
      "                             [--auth_host_port [AUTH_HOST_PORT [AUTH_HOST_PORT ...]]]\n",
      "                             [--logging_level {DEBUG,INFO,WARNING,ERROR,CRITICAL}]\n",
      "ipykernel_launcher.py: error: unrecognized arguments: -f /home/alifnur13175/.local/share/jupyter/runtime/kernel-5ed6a4b6-881d-4b44-b7d0-1c5e09fb1716.json\n"
     ]
    },
    {
     "ename": "SystemExit",
     "evalue": "2",
     "output_type": "error",
     "traceback": [
      "An exception has occurred, use %tb to see the full traceback.\n",
      "\u001b[0;31mSystemExit\u001b[0m\u001b[0;31m:\u001b[0m 2\n"
     ]
    }
   ],
   "source": [
    "client_id = '380277844736-qkq7c4d4k345dshtf1j73q756bj2q596.apps.googleusercontent.com'\n",
    "client_secret = 'BNdti-qljKcIbI21PZ2n6NTF'\n",
    "\n",
    "refresh_token = get_refresh_token(client_id,client_secret)"
   ]
  },
  {
   "cell_type": "code",
   "execution_count": 10,
   "metadata": {},
   "outputs": [],
   "source": [
    "''' function return the google analytics data for given dimension, metrics, start data, end data access token, type,goal number, condition'''\n",
    "\n",
    "def google_analytics_reporting_api_data_extraction(viewID,dim,met,start_date,end_date,refresh_token,transaction_type,goal_number,condition):\n",
    "    \n",
    "    viewID=viewID;dim=dim;met=met;start_date=start_date;end_date=end_date;refresh_token=refresh_token;transaction_type=transaction_type;condition=condition\n",
    "    goal_number=goal_number\n",
    "    viewID=\"\".join(['ga%3A',viewID])\n",
    "    \n",
    "    if transaction_type==\"Goal\":\n",
    "        met1=\"%2C\".join([re.sub(\":\",\"%3A\",i) for i in met]).replace(\"XX\",str(goal_number))\n",
    "    elif transaction_type==\"Transaction\":\n",
    "        met1=\"%2C\".join([re.sub(\":\",\"%3A\",i) for i in met])\n",
    "        \n",
    "    dim1=\"%2C\".join([re.sub(\":\",\"%3A\",i) for i in dim])\n",
    "    \n",
    "    if where_json('credential.json')==True:\n",
    "       with open('credential.json') as json_file:  \n",
    "           storage_data = json.load(json_file)\n",
    "       \n",
    "       client_id=storage_data['client_id']\n",
    "       client_secret=storage_data['client_secret']\n",
    "       credentials = client.OAuth2Credentials(\n",
    "                access_token=None, client_id=client_id, client_secret=client_secret, refresh_token=refresh_token,\n",
    "                token_expiry=3600,token_uri=GOOGLE_TOKEN_URI,user_agent='my-user-agent/1.0',revoke_uri=GOOGLE_REVOKE_URI)\n",
    "\n",
    "       credentials.refresh(httplib2.Http())\n",
    "       rt=(json.loads(credentials.to_json()))['access_token']\n",
    "  \n",
    "       api_url=\"https://www.googleapis.com/analytics/v3/data/ga?ids=\"\n",
    "    \n",
    "       url=\"\".join([api_url,viewID,'&start-date=',start_date,'&end-date=',end_date,'&metrics=',met1,'&dimensions=',dim1,'&max-results=1000000',condition,'&access_token=',rt])\n",
    "    \n",
    "       data=pd.DataFrame()\n",
    "    \n",
    "       try:\n",
    "         r = requests.get(url)\n",
    "                \n",
    "         try:\n",
    "            data=pd.DataFrame(list((r.json())['rows']),columns=[re.sub(\"ga:\",\"\",i) for i in dim+met])\n",
    "            data['date']=start_date\n",
    "            print(\"data extraction is successfully completed\")\n",
    "           \n",
    "            return data\n",
    "         except:\n",
    "            print((r.json()))\n",
    "       except:\n",
    "         print((r.json()))\n",
    "         print(\"error occured in the google analytics reporting api data extraction\")"
   ]
  },
  {
   "cell_type": "code",
   "execution_count": 7,
   "metadata": {},
   "outputs": [
    {
     "ename": "NameError",
     "evalue": "name 'refresh_token' is not defined",
     "output_type": "error",
     "traceback": [
      "\u001b[0;31m---------------------------------------------------------------------------\u001b[0m",
      "\u001b[0;31mNameError\u001b[0m                                 Traceback (most recent call last)",
      "\u001b[0;32m<ipython-input-7-321df6e948ff>\u001b[0m in \u001b[0;36m<module>\u001b[0;34m\u001b[0m\n\u001b[1;32m      6\u001b[0m \u001b[0mtransaction_type\u001b[0m\u001b[0;34m=\u001b[0m\u001b[0;34m'Transaction'\u001b[0m\u001b[0;34m\u001b[0m\u001b[0;34m\u001b[0m\u001b[0m\n\u001b[1;32m      7\u001b[0m \u001b[0mgoal_number\u001b[0m\u001b[0;34m=\u001b[0m\u001b[0;34m''\u001b[0m\u001b[0;34m\u001b[0m\u001b[0;34m\u001b[0m\u001b[0m\n\u001b[0;32m----> 8\u001b[0;31m \u001b[0mrefresh_token\u001b[0m\u001b[0;34m=\u001b[0m\u001b[0mrefresh_token\u001b[0m\u001b[0;34m\u001b[0m\u001b[0;34m\u001b[0m\u001b[0m\n\u001b[0m\u001b[1;32m      9\u001b[0m \u001b[0mcondition\u001b[0m\u001b[0;34m=\u001b[0m\u001b[0;34m''\u001b[0m\u001b[0;34m\u001b[0m\u001b[0;34m\u001b[0m\u001b[0m\n\u001b[1;32m     10\u001b[0m \u001b[0;34m\u001b[0m\u001b[0m\n",
      "\u001b[0;31mNameError\u001b[0m: name 'refresh_token' is not defined"
     ]
    }
   ],
   "source": [
    "viewID='XXXXXXXX'\n",
    "dim=['ga:browser','ga:sourceMedium']\n",
    "met=['ga:users','ga:revenuePerTransaction']\n",
    "start_date='2019-01-01'\n",
    "end_date='2019-01-10'\n",
    "transaction_type='Transaction'\n",
    "goal_number=''\n",
    "refresh_token=refresh_token\n",
    "condition=''\n",
    "\n",
    "data=google_analytics_reporting_api_data_extraction(viewID,dim,met,start_date,end_date,refresh_token,transaction_type,goal_number,condition)"
   ]
  },
  {
   "cell_type": "code",
   "execution_count": null,
   "metadata": {},
   "outputs": [],
   "source": []
  }
 ],
 "metadata": {
  "kernelspec": {
   "display_name": "Python 3",
   "language": "python",
   "name": "python3"
  },
  "language_info": {
   "codemirror_mode": {
    "name": "ipython",
    "version": 3
   },
   "file_extension": ".py",
   "mimetype": "text/x-python",
   "name": "python",
   "nbconvert_exporter": "python",
   "pygments_lexer": "ipython3",
   "version": "3.7.8"
  }
 },
 "nbformat": 4,
 "nbformat_minor": 4
}
